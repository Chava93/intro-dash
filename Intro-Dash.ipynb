{
 "cells": [
  {
   "cell_type": "markdown",
   "metadata": {
    "slideshow": {
     "slide_type": "slide"
    }
   },
   "source": [
    "# Aplicaciones Web con Dash \n"
   ]
  },
  {
   "cell_type": "markdown",
   "metadata": {
    "slideshow": {
     "slide_type": "slide"
    }
   },
   "source": [
    "## Qué es Dash?\n",
    "\n",
    "Dash es una manera de construir **interfaces de usuario** en los navegadores web utilizando únicamente **Python**! No JS, No CSS, no HTML.\n",
    "\n",
    "Usualmente este tipo de aplicaciones requieren de equipos enteros (Front-end Devs, Back end Devs, Data Scientist, etc.) para poder ser llevados a cabo, sin embargo, gracias a la simplificacion de librerías como plotly.js, D3.js entre otras, Dash hace muy sencillo y rápido desarrollarlas.\n",
    "\n",
    "Fuente: https://dash.plot.ly/introduction"
   ]
  },
  {
   "cell_type": "markdown",
   "metadata": {
    "slideshow": {
     "slide_type": "slide"
    }
   },
   "source": [
    "## Hello world con Dash\n",
    "\n",
    "1. Inicializar la aplicación  \n",
    "    `import dash`  \n",
    "    `my_app=Dash(my app)`\n",
    "2. Describir el diseño de tu app  \n",
    "    * Dash viene con muchos componentes html como h1, div, table, etc..  \n",
    "    `from dash_components import h1`  \n",
    "    `my_app.layout = h1(\"Hola Universidad Marista\")`\n",
    "3. correr la aplicación en el servidor  \n",
    "    `my_app.server.run(debug=True)`"
   ]
  },
  {
   "cell_type": "markdown",
   "metadata": {
    "slideshow": {
     "slide_type": "slide"
    }
   },
   "source": [
    "## HTML components\n",
    "La libreria `dash_html_components` permite utilizar una abstracción de la mayoría de los elmentos disponibles en html en python. Con esto pueden crearse divisiones en la página, agregar imágenes, tablas entre otros.\n"
   ]
  },
  {
   "cell_type": "markdown",
   "metadata": {
    "slideshow": {
     "slide_type": "slide"
    }
   },
   "source": [
    "# Más componentes\n",
    "\n",
    "Con Dash es posible agregar gráficas, botones, entradas de texto entre otros. Estos componentes permiten al usuario tener interacción con la página de diferentes maneras.\n"
   ]
  }
 ],
 "metadata": {
  "celltoolbar": "Slideshow",
  "kernelspec": {
   "display_name": "Python 3",
   "language": "python",
   "name": "python3"
  },
  "language_info": {
   "codemirror_mode": {
    "name": "ipython",
    "version": 3
   },
   "file_extension": ".py",
   "mimetype": "text/x-python",
   "name": "python",
   "nbconvert_exporter": "python",
   "pygments_lexer": "ipython3",
   "version": "3.7.0"
  }
 },
 "nbformat": 4,
 "nbformat_minor": 2
}
